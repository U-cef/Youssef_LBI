{
 "cells": [
  {
   "cell_type": "code",
   "execution_count": 1,
   "metadata": {},
   "outputs": [],
   "source": [
    "import os\n",
    "import numpy as np\n",
    "import tensorflow as tf\n",
    "from tensorflow.keras.preprocessing.image import ImageDataGenerator\n",
    "from tensorflow.keras.applications import ResNet50\n",
    "from tensorflow.keras.layers import Dense, GlobalAveragePooling2D\n",
    "from tensorflow.keras.models import Model\n",
    "from sklearn.metrics import confusion_matrix, classification_report\n",
    "import matplotlib.pyplot as plt\n",
    "import seaborn as sns"
   ]
  },
  {
   "cell_type": "code",
   "execution_count": 11,
   "metadata": {},
   "outputs": [],
   "source": [
    "# Define data directories and number of classes\n",
    "data_dir = 'D:/Data/Stage_Luc/OneDrive_data/dl_disease/Données_algo/classes/subdivision_4_4/train/'  # Update with your dataset path\n",
    "num_classes = 2  # Disease and Healthy\n",
    "\n",
    "# Define data augmentation and normalization\n",
    "datagen = ImageDataGenerator(\n",
    "    rescale=1.0/255.0,\n",
    "    validation_split=0.2,  # Adjust the validation split as needed\n",
    "    rotation_range=20,\n",
    "    width_shift_range=0.2,\n",
    "    height_shift_range=0.2,\n",
    "    shear_range=0.2,\n",
    "    zoom_range=0.2,\n",
    "    horizontal_flip=True,\n",
    "    fill_mode='nearest'\n",
    ")\n",
    "\n"
   ]
  },
  {
   "cell_type": "code",
   "execution_count": 12,
   "metadata": {},
   "outputs": [],
   "source": [
    "# Load the pretrained ResNet-50 model with custom output layer\n",
    "base_model = ResNet50(weights='imagenet', include_top=False)\n",
    "x = base_model.output\n",
    "x = GlobalAveragePooling2D()(x)\n",
    "x = Dense(1024, activation='relu')(x)  # Add additional layers if needed\n",
    "predictions = Dense(num_classes, activation='softmax')(x)\n",
    "model = Model(inputs=base_model.input, outputs=predictions)\n",
    "\n"
   ]
  },
  {
   "cell_type": "code",
   "execution_count": 13,
   "metadata": {},
   "outputs": [],
   "source": [
    "# Freeze layers of the base model\n",
    "for layer in base_model.layers:\n",
    "    layer.trainable = False\n",
    "\n",
    "# Compile the model\n",
    "model.compile(optimizer='adam',\n",
    "              loss='categorical_crossentropy',\n",
    "              metrics=['accuracy'])\n",
    "\n"
   ]
  },
  {
   "cell_type": "code",
   "execution_count": 17,
   "metadata": {},
   "outputs": [
    {
     "name": "stdout",
     "output_type": "stream",
     "text": [
      "Found 3779 images belonging to 2 classes.\n",
      "Found 944 images belonging to 2 classes.\n"
     ]
    }
   ],
   "source": [
    "# Load your validation dataset\n",
    "batch_size = 100  # Adjust the batch size as needed\n",
    "\n",
    "train_generator = datagen.flow_from_directory(\n",
    "    data_dir,\n",
    "    target_size=(224, 224),\n",
    "    batch_size=batch_size,\n",
    "    class_mode='categorical',\n",
    "    shuffle=True,\n",
    "    subset='training',  # Use the training subset\n",
    ")\n",
    "\n",
    "validation_generator = datagen.flow_from_directory(\n",
    "    data_dir,\n",
    "    target_size=(224, 224),\n",
    "    batch_size=batch_size,\n",
    "    class_mode='categorical',\n",
    "    shuffle=False,\n",
    "    subset='validation',  # Use the validation subset\n",
    ")\n",
    "\n"
   ]
  },
  {
   "cell_type": "code",
   "execution_count": 18,
   "metadata": {},
   "outputs": [
    {
     "name": "stdout",
     "output_type": "stream",
     "text": [
      "Epoch 1/5\n",
      "36/37 [============================>.] - ETA: 19s - loss: 0.0868 - acc: 0.9676Epoch 1/5\n",
      "37/37 [==============================] - 836s 23s/step - loss: 0.0859 - acc: 0.9677 - val_loss: 0.9425 - val_acc: 0.8511\n",
      "Epoch 2/5\n",
      "36/37 [============================>.] - ETA: 23s - loss: 0.0146 - acc: 0.9966Epoch 1/5\n",
      "37/37 [==============================] - 958s 26s/step - loss: 0.0146 - acc: 0.9965 - val_loss: 1.0880 - val_acc: 0.8511\n",
      "Epoch 3/5\n",
      "36/37 [============================>.] - ETA: 25s - loss: 0.0098 - acc: 0.9978Epoch 1/5\n",
      "37/37 [==============================] - 986s 27s/step - loss: 0.0101 - acc: 0.9976 - val_loss: 1.2322 - val_acc: 0.8511\n",
      "Epoch 4/5\n",
      "36/37 [============================>.] - ETA: 18s - loss: 0.0081 - acc: 0.9980Epoch 1/5\n",
      "37/37 [==============================] - 757s 20s/step - loss: 0.0079 - acc: 0.9981 - val_loss: 1.2253 - val_acc: 0.8511\n",
      "Epoch 5/5\n",
      "36/37 [============================>.] - ETA: 18s - loss: 0.0098 - acc: 0.9969Epoch 1/5\n",
      "37/37 [==============================] - 756s 20s/step - loss: 0.0096 - acc: 0.9970 - val_loss: 1.4331 - val_acc: 0.8511\n"
     ]
    },
    {
     "data": {
      "image/png": "[encoded data removed]",
      "text/plain": [
       "<Figure size 576x432 with 2 Axes>"
      ]
     },
     "metadata": {
      "needs_background": "light"
     },
     "output_type": "display_data"
    },
    {
     "name": "stdout",
     "output_type": "stream",
     "text": [
      "              precision    recall  f1-score   support\n",
      "\n",
      "     disease       0.00      0.00      0.00       134\n",
      "     healthy       0.86      1.00      0.92       810\n",
      "\n",
      "    accuracy                           0.86       944\n",
      "   macro avg       0.43      0.50      0.46       944\n",
      "weighted avg       0.74      0.86      0.79       944\n",
      "\n"
     ]
    },
    {
     "name": "stderr",
     "output_type": "stream",
     "text": [
      "C:\\Users\\lebryo000\\.conda\\envs\\r_cnnenv\\lib\\site-packages\\sklearn\\metrics\\_classification.py:1248: UndefinedMetricWarning: Precision and F-score are ill-defined and being set to 0.0 in labels with no predicted samples. Use `zero_division` parameter to control this behavior.\n",
      "  _warn_prf(average, modifier, msg_start, len(result))\n",
      "C:\\Users\\lebryo000\\.conda\\envs\\r_cnnenv\\lib\\site-packages\\sklearn\\metrics\\_classification.py:1248: UndefinedMetricWarning: Precision and F-score are ill-defined and being set to 0.0 in labels with no predicted samples. Use `zero_division` parameter to control this behavior.\n",
      "  _warn_prf(average, modifier, msg_start, len(result))\n",
      "C:\\Users\\lebryo000\\.conda\\envs\\r_cnnenv\\lib\\site-packages\\sklearn\\metrics\\_classification.py:1248: UndefinedMetricWarning: Precision and F-score are ill-defined and being set to 0.0 in labels with no predicted samples. Use `zero_division` parameter to control this behavior.\n",
      "  _warn_prf(average, modifier, msg_start, len(result))\n"
     ]
    }
   ],
   "source": [
    "# Train the model\n",
    "num_epochs = 5  # Adjust the number of epochs as needed\n",
    "history = model.fit(train_generator,\n",
    "                    steps_per_epoch=train_generator.samples // batch_size,\n",
    "                    epochs=num_epochs,\n",
    "                    validation_data=validation_generator,\n",
    "                    validation_steps=validation_generator.samples // batch_size)\n",
    "\n",
    "# Create a confusion matrix\n",
    "true_labels = validation_generator.classes\n",
    "\n",
    "predictions = model.predict(validation_generator)\n",
    "predicted_labels = np.argmax(predictions, axis=1)\n",
    "\n",
    "confusion = confusion_matrix(true_labels, predicted_labels)\n",
    "\n",
    "# Plot the confusion matrix\n",
    "plt.figure(figsize=(8, 6))\n",
    "sns.heatmap(confusion, annot=True, fmt=\"d\", cmap=\"Blues\", xticklabels=validation_generator.class_indices.keys(), yticklabels=validation_generator.class_indices.keys())\n",
    "plt.xlabel(\"Predicted\")\n",
    "plt.ylabel(\"True\")\n",
    "plt.title(\"Confusion Matrix\")\n",
    "plt.show()\n",
    "\n",
    "# Generate a classification report\n",
    "class_labels = list(validation_generator.class_indices.keys())\n",
    "print(classification_report(true_labels, predicted_labels, target_names=class_labels))"
   ]
  },
  {
   "cell_type": "code",
   "execution_count": 22,
   "metadata": {},
   "outputs": [
    {
     "name": "stdout",
     "output_type": "stream",
     "text": [
      "Found 4723 images belonging to 2 classes.\n",
      "Found 1155 images belonging to 2 classes.\n",
      "Epoch 1/5\n",
      "72/73 [============================>.] - ETA: 11s - loss: 0.3529 - acc: 0.9358Epoch 1/5\n",
      "73/73 [==============================] - 907s 12s/step - loss: 0.3484 - acc: 0.9367 - val_loss: 0.8090 - val_acc: 0.8611\n",
      "Epoch 2/5\n",
      "72/73 [============================>.] - ETA: 11s - loss: 0.0242 - acc: 0.9917Epoch 1/5\n",
      "73/73 [==============================] - 910s 12s/step - loss: 0.0240 - acc: 0.9918 - val_loss: 0.8936 - val_acc: 0.8611\n",
      "Epoch 3/5\n",
      "72/73 [============================>.] - ETA: 11s - loss: 0.0213 - acc: 0.9939Epoch 1/5\n",
      "73/73 [==============================] - 923s 13s/step - loss: 0.0211 - acc: 0.9940 - val_loss: 1.0214 - val_acc: 0.8611\n",
      "Epoch 4/5\n",
      "72/73 [============================>.] - ETA: 11s - loss: 0.0115 - acc: 0.9961Epoch 1/5\n",
      "73/73 [==============================] - 918s 13s/step - loss: 0.0115 - acc: 0.9961 - val_loss: 1.1295 - val_acc: 0.8611\n",
      "Epoch 5/5\n",
      "72/73 [============================>.] - ETA: 11s - loss: 0.0131 - acc: 0.9963Epoch 1/5\n",
      "73/73 [==============================] - 950s 13s/step - loss: 0.0130 - acc: 0.9964 - val_loss: 1.2230 - val_acc: 0.8611\n"
     ]
    },
    {
     "data": {
      "image/png": "[encoded data removed]",
      "text/plain": [
       "<Figure size 576x432 with 2 Axes>"
      ]
     },
     "metadata": {
      "needs_background": "light"
     },
     "output_type": "display_data"
    },
    {
     "name": "stdout",
     "output_type": "stream",
     "text": [
      "              precision    recall  f1-score   support\n",
      "\n",
      "     disease       0.00      0.00      0.00       160\n",
      "     healthy       0.86      1.00      0.93       995\n",
      "\n",
      "    accuracy                           0.86      1155\n",
      "   macro avg       0.43      0.50      0.46      1155\n",
      "weighted avg       0.74      0.86      0.80      1155\n",
      "\n"
     ]
    },
    {
     "name": "stderr",
     "output_type": "stream",
     "text": [
      "C:\\Users\\lebryo000\\.conda\\envs\\r_cnnenv\\lib\\site-packages\\sklearn\\metrics\\_classification.py:1248: UndefinedMetricWarning: Precision and F-score are ill-defined and being set to 0.0 in labels with no predicted samples. Use `zero_division` parameter to control this behavior.\n",
      "  _warn_prf(average, modifier, msg_start, len(result))\n",
      "C:\\Users\\lebryo000\\.conda\\envs\\r_cnnenv\\lib\\site-packages\\sklearn\\metrics\\_classification.py:1248: UndefinedMetricWarning: Precision and F-score are ill-defined and being set to 0.0 in labels with no predicted samples. Use `zero_division` parameter to control this behavior.\n",
      "  _warn_prf(average, modifier, msg_start, len(result))\n",
      "C:\\Users\\lebryo000\\.conda\\envs\\r_cnnenv\\lib\\site-packages\\sklearn\\metrics\\_classification.py:1248: UndefinedMetricWarning: Precision and F-score are ill-defined and being set to 0.0 in labels with no predicted samples. Use `zero_division` parameter to control this behavior.\n",
      "  _warn_prf(average, modifier, msg_start, len(result))\n"
     ]
    }
   ],
   "source": [
    "import os\n",
    "import numpy as np\n",
    "import tensorflow as tf\n",
    "from tensorflow.keras.preprocessing.image import ImageDataGenerator\n",
    "from tensorflow.keras.applications import ResNet50\n",
    "from tensorflow.keras.layers import Dense, GlobalAveragePooling2D\n",
    "from tensorflow.keras.models import Model\n",
    "from sklearn.metrics import confusion_matrix, classification_report\n",
    "import matplotlib.pyplot as plt\n",
    "import seaborn as sns\n",
    "\n",
    "\n",
    "train_data_dir = 'D:/Data/Stage_Luc/OneDrive_data/dl_disease/Données_algo/classes/subdivision_4_4/train' \n",
    "val_data_dir = 'D:/Data/Stage_Luc/OneDrive_data/dl_disease/Données_algo/classes/subdivision_4_4/test'  \n",
    "num_classes = 2  \n",
    "\n",
    "\n",
    "datagen = ImageDataGenerator(\n",
    "    rescale=1.0/255.0,\n",
    "    rotation_range=20,\n",
    "    width_shift_range=0.2,\n",
    "    height_shift_range=0.2,\n",
    "    shear_range=0.2,\n",
    "    zoom_range=0.2,\n",
    "    horizontal_flip=True,\n",
    "    fill_mode='nearest'\n",
    ")\n",
    "\n",
    "\n",
    "base_model = ResNet50(weights='imagenet', include_top=False)\n",
    "x = base_model.output\n",
    "x = GlobalAveragePooling2D()(x)\n",
    "x = Dense(1024, activation='relu')(x)\n",
    "predictions = Dense(num_classes, activation='softmax')(x)\n",
    "model = Model(inputs=base_model.input, outputs=predictions)\n",
    "\n",
    "\n",
    "for layer in base_model.layers:\n",
    "    layer.trainable = False\n",
    "\n",
    "# Compile the model\n",
    "model.compile(optimizer='adam',\n",
    "              loss='categorical_crossentropy',\n",
    "              metrics=['accuracy'])\n",
    "\n",
    "# Load the training and validation datasets\n",
    "batch_size = 64  # Adjust the batch size as needed\n",
    "\n",
    "train_generator = datagen.flow_from_directory(\n",
    "    train_data_dir,\n",
    "    target_size=(224, 224),\n",
    "    batch_size=batch_size,\n",
    "    class_mode='categorical',\n",
    "    shuffle=True,\n",
    ")\n",
    "\n",
    "validation_generator = datagen.flow_from_directory(\n",
    "    val_data_dir,\n",
    "    target_size=(224, 224),\n",
    "    batch_size=batch_size,\n",
    "    class_mode='categorical',\n",
    "    shuffle=False,\n",
    ")\n",
    "\n",
    "# Train the model\n",
    "num_epochs = 5  # Adjust the number of epochs as needed\n",
    "history = model.fit(train_generator,\n",
    "                    steps_per_epoch=train_generator.samples // batch_size,\n",
    "                    epochs=num_epochs,\n",
    "                    validation_data=validation_generator,\n",
    "                    validation_steps=validation_generator.samples // batch_size)\n",
    "\n",
    "# Create a confusion matrix\n",
    "true_labels = validation_generator.classes\n",
    "\n",
    "predictions = model.predict(validation_generator)\n",
    "predicted_labels = np.argmax(predictions, axis=1)\n",
    "\n",
    "confusion = confusion_matrix(true_labels, predicted_labels)\n",
    "\n",
    "# Plot the confusion matrix\n",
    "plt.figure(figsize=(8, 6))\n",
    "sns.heatmap(confusion, annot=True, fmt=\"d\", cmap=\"Blues\", xticklabels=validation_generator.class_indices.keys(), yticklabels=validation_generator.class_indices.keys())\n",
    "plt.xlabel(\"Predicted\")\n",
    "plt.ylabel(\"True\")\n",
    "plt.title(\"Confusion Matrix\")\n",
    "plt.show()\n",
    "\n",
    "# Generate a classification report\n",
    "class_labels = list(validation_generator.class_indices.keys())\n",
    "print(classification_report(true_labels, predicted_labels, target_names=class_labels))\n"
   ]
  },
  {
   "cell_type": "code",
   "execution_count": 44,
   "metadata": {},
   "outputs": [
    {
     "name": "stdout",
     "output_type": "stream",
     "text": [
      "Found 4723 images belonging to 2 classes.\n",
      "Found 1155 images belonging to 2 classes.\n",
      "Epoch 1/10\n",
      " 24/147 [===>..........................] - ETA: 12:03 - loss: 0.2236 - acc: 0.9089"
     ]
    }
   ],
   "source": [
    "import os\n",
    "import numpy as np\n",
    "import tensorflow as tf\n",
    "from tensorflow.keras.preprocessing.image import ImageDataGenerator, load_img, img_to_array\n",
    "from tensorflow.keras.applications import ResNet50\n",
    "from tensorflow.keras.layers import Dense, GlobalAveragePooling2D, Dropout, BatchNormalization\n",
    "from tensorflow.keras.models import Model, Sequential\n",
    "from sklearn.metrics import confusion_matrix, classification_report\n",
    "import matplotlib.pyplot as plt\n",
    "import seaborn as sns\n",
    "\n",
    "# Define data directories\n",
    "train_data_dir = 'D:/Data/Stage_Luc/OneDrive_data/dl_disease/Données_algo/classes/subdivision_4_4/train' \n",
    "val_data_dir = 'D:/Data/Stage_Luc/OneDrive_data/dl_disease/Données_algo/classes/subdivision_4_4/test'  \n",
    "num_classes = 2  # Diseased and Healthy\n",
    "\n",
    "# Define data augmentation and normalization\n",
    "datagen = ImageDataGenerator(\n",
    "    rescale=1.0/255.0,\n",
    "    rotation_range=20,\n",
    "    width_shift_range=0.2,\n",
    "    height_shift_range=0.2,\n",
    "    shear_range=0.2,\n",
    "    zoom_range=0.2,\n",
    "    horizontal_flip=True,\n",
    "    fill_mode='nearest'\n",
    ")\n",
    "\n",
    "# Load the pretrained ResNet-50 model with custom output layer\n",
    "base_model = ResNet50(weights='imagenet', include_top=False)\n",
    "x = base_model.output\n",
    "x = GlobalAveragePooling2D()(x)\n",
    "x = Dense(1024, activation='relu')(x)\n",
    "x = Dropout(0.3)(x)  # Add dropout for regularization\n",
    "x = BatchNormalization()(x)  # Add batch normalization\n",
    "x = Dense(512, activation='relu')(x)  # Additional dense layer\n",
    "predictions = Dense(num_classes, activation='softmax')(x)\n",
    "model = Model(inputs=base_model.input, outputs=predictions)\n",
    "\n",
    "# Freeze layers of the base model\n",
    "for layer in base_model.layers:\n",
    "    layer.trainable = False\n",
    "\n",
    "# Compile the model\n",
    "model.compile(optimizer='adam',\n",
    "              loss='categorical_crossentropy',\n",
    "              metrics=['accuracy'])\n",
    "\n",
    "# Load the training and validation datasets\n",
    "batch_size = 32  # Adjust the batch size as needed\n",
    "\n",
    "train_generator = datagen.flow_from_directory(\n",
    "    train_data_dir,\n",
    "    target_size=(224, 224),\n",
    "    batch_size=batch_size,\n",
    "    class_mode='categorical',\n",
    "    shuffle=True,\n",
    ")\n",
    "\n",
    "validation_generator = datagen.flow_from_directory(\n",
    "    val_data_dir,\n",
    "    target_size=(224, 224),\n",
    "    batch_size=batch_size,\n",
    "    class_mode='categorical',\n",
    "    shuffle=False,\n",
    ")\n",
    "\n",
    "# Train the model\n",
    "num_epochs = 10  # Adjust the number of epochs as needed\n",
    "history = model.fit(train_generator,\n",
    "                    steps_per_epoch=train_generator.samples // batch_size,\n",
    "                    epochs=num_epochs,\n",
    "                    validation_data=validation_generator,\n",
    "                    validation_steps=validation_generator.samples // batch_size)\n",
    "\n",
    "# Create a confusion matrix\n",
    "true_labels = validation_generator.classes\n",
    "\n",
    "predictions = model.predict(validation_generator)\n",
    "predicted_labels = np.argmax(predictions, axis=1)\n",
    "\n",
    "confusion = confusion_matrix(true_labels, predicted_labels)\n",
    "\n",
    "# Plot the confusion matrix\n",
    "plt.figure(figsize=(8, 6))\n",
    "sns.heatmap(confusion, annot=True, fmt=\"d\", cmap=\"Blues\", xticklabels=validation_generator.class_indices.keys(), yticklabels=validation_generator.class_indices.keys())\n",
    "plt.xlabel(\"Predicted\")\n",
    "plt.ylabel(\"True\")\n",
    "plt.title(\"Confusion Matrix\")\n",
    "plt.show()\n",
    "\n",
    "# Generate a classification report\n",
    "class_labels = list(validation_generator.class_indices.keys())\n",
    "print(classification_report(true_labels, predicted_labels, target_names=class_labels))\n"
   ]
  },
  {
   "cell_type": "code",
   "execution_count": 43,
   "metadata": {},
   "outputs": [
    {
     "name": "stdout",
     "output_type": "stream",
     "text": [
      "The predicted class for the new image is: healthy\n"
     ]
    }
   ],
   "source": [
    "from tensorflow.keras.preprocessing.image import load_img, img_to_array\n",
    "\n",
    "new_image_path = 'D:/Data/Stage_Luc/OneDrive_data/dl_disease/Données_algo/classes/validation_fin/Diseased/Dis_1_7.jpg'\n",
    "#new_image_path = 'D:/Data/Stage_Luc/OneDrive_data/dl_disease/Données_algo/classes/validation_fin/Healthy/heal_1_3.jpg'  \n",
    "new_image = load_img(new_image_path, target_size=(224,224))\n",
    "new_image = img_to_array(new_image) / 255.0\n",
    "new_image = np.expand_dims(new_image, axis=0)\n",
    "prediction = model.predict(new_image)\n",
    "\n",
    "predicted_class_idx = np.argmax(prediction)\n",
    "predicted_class = class_labels[np.argmax(prediction)]\n",
    "\n",
    "print(f\"La prédiction est: {predicted_class}\")"
   ]
  }
 ],
 "metadata": {
  "interpreter": {
   "hash": "61e8cd94c9c49b56acce2e067e8cb6fb89fb56a4788f0fa173296246dced635c"
  },
  "kernelspec": {
   "display_name": "Python 3.6.13 ('r_cnnenv')",
   "language": "python",
   "name": "python3"
  },
  "language_info": {
   "codemirror_mode": {
    "name": "ipython",
    "version": 3
   },
   "file_extension": ".py",
   "mimetype": "text/x-python",
   "name": "python",
   "nbconvert_exporter": "python",
   "pygments_lexer": "ipython3",
   "version": "3.6.13"
  },
  "orig_nbformat": 4
 },
 "nbformat": 4,
 "nbformat_minor": 2
}
